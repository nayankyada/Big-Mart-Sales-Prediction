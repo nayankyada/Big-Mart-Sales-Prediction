{
  "nbformat": 4,
  "nbformat_minor": 0,
  "metadata": {
    "colab": {
      "name": "BIG_MART.ipynb",
      "provenance": [],
      "collapsed_sections": []
    },
    "kernelspec": {
      "name": "python3",
      "display_name": "Python 3"
    },
    "accelerator": "GPU"
  },
  "cells": [
    {
      "cell_type": "code",
      "metadata": {
        "id": "ss5CBOv_Sly-",
        "colab_type": "code",
        "outputId": "1610c46f-9c48-4898-df0d-3790ddc47567",
        "colab": {
          "base_uri": "https://localhost:8080/",
          "height": 122
        }
      },
      "source": [
        "from google.colab import drive\n",
        "drive.mount('/content/drive')"
      ],
      "execution_count": 1,
      "outputs": [
        {
          "output_type": "stream",
          "text": [
            "\n",
            "Enter your authorization code:\n",
            "··········\n",
            "Mounted at /content/drive\n"
          ],
          "name": "stdout"
        }
      ]
    },
    {
      "cell_type": "code",
      "metadata": {
        "id": "6kJDgSuvS3Sa",
        "colab_type": "code",
        "colab": {}
      },
      "source": [
        "import pandas as pd\n",
        "import numpy as np\n",
        "np.printoptions(np.inf)\n",
        "import seaborn as sns\n",
        "import matplotlib.pyplot as plt\n",
        "from sklearn.preprocessing import OneHotEncoder"
      ],
      "execution_count": 0,
      "outputs": []
    },
    {
      "cell_type": "code",
      "metadata": {
        "id": "i4Ab3ElUTCas",
        "colab_type": "code",
        "outputId": "8aefb4ae-5df4-4662-9253-777a351ff8e7",
        "colab": {
          "base_uri": "https://localhost:8080/",
          "height": 51
        }
      },
      "source": [
        "train_data =  pd.read_csv('/content/drive/My Drive/4_BIG_MART/Train.csv')\n",
        "test_data = pd.read_csv('/content/drive/My Drive/4_BIG_MART/Test.csv')\n",
        "\n",
        "print(train_data.shape)\n",
        "print(test_data.shape)\n",
        "\n",
        "data = train_data.append(test_data,ignore_index=True,sort=False)\n",
        "data = pd.DataFrame(data,columns=data.columns)"
      ],
      "execution_count": 3,
      "outputs": [
        {
          "output_type": "stream",
          "text": [
            "(8523, 12)\n",
            "(5681, 11)\n"
          ],
          "name": "stdout"
        }
      ]
    },
    {
      "cell_type": "code",
      "metadata": {
        "colab_type": "code",
        "outputId": "38d25fa1-fd0f-41a3-fd6a-03e60522c47d",
        "id": "fIItvdmzhaeR",
        "colab": {
          "base_uri": "https://localhost:8080/",
          "height": 566
        }
      },
      "source": [
        "print(data.shape)\n",
        "data.head(10)"
      ],
      "execution_count": 4,
      "outputs": [
        {
          "output_type": "stream",
          "text": [
            "(14204, 12)\n"
          ],
          "name": "stdout"
        },
        {
          "output_type": "execute_result",
          "data": {
            "text/html": [
              "<div>\n",
              "<style scoped>\n",
              "    .dataframe tbody tr th:only-of-type {\n",
              "        vertical-align: middle;\n",
              "    }\n",
              "\n",
              "    .dataframe tbody tr th {\n",
              "        vertical-align: top;\n",
              "    }\n",
              "\n",
              "    .dataframe thead th {\n",
              "        text-align: right;\n",
              "    }\n",
              "</style>\n",
              "<table border=\"1\" class=\"dataframe\">\n",
              "  <thead>\n",
              "    <tr style=\"text-align: right;\">\n",
              "      <th></th>\n",
              "      <th>Item_Identifier</th>\n",
              "      <th>Item_Weight</th>\n",
              "      <th>Item_Fat_Content</th>\n",
              "      <th>Item_Visibility</th>\n",
              "      <th>Item_Type</th>\n",
              "      <th>Item_MRP</th>\n",
              "      <th>Outlet_Identifier</th>\n",
              "      <th>Outlet_Establishment_Year</th>\n",
              "      <th>Outlet_Size</th>\n",
              "      <th>Outlet_Location_Type</th>\n",
              "      <th>Outlet_Type</th>\n",
              "      <th>Item_Outlet_Sales</th>\n",
              "    </tr>\n",
              "  </thead>\n",
              "  <tbody>\n",
              "    <tr>\n",
              "      <th>0</th>\n",
              "      <td>FDA15</td>\n",
              "      <td>9.300</td>\n",
              "      <td>Low Fat</td>\n",
              "      <td>0.016047</td>\n",
              "      <td>Dairy</td>\n",
              "      <td>249.8092</td>\n",
              "      <td>OUT049</td>\n",
              "      <td>1999</td>\n",
              "      <td>Medium</td>\n",
              "      <td>Tier 1</td>\n",
              "      <td>Supermarket Type1</td>\n",
              "      <td>3735.1380</td>\n",
              "    </tr>\n",
              "    <tr>\n",
              "      <th>1</th>\n",
              "      <td>DRC01</td>\n",
              "      <td>5.920</td>\n",
              "      <td>Regular</td>\n",
              "      <td>0.019278</td>\n",
              "      <td>Soft Drinks</td>\n",
              "      <td>48.2692</td>\n",
              "      <td>OUT018</td>\n",
              "      <td>2009</td>\n",
              "      <td>Medium</td>\n",
              "      <td>Tier 3</td>\n",
              "      <td>Supermarket Type2</td>\n",
              "      <td>443.4228</td>\n",
              "    </tr>\n",
              "    <tr>\n",
              "      <th>2</th>\n",
              "      <td>FDN15</td>\n",
              "      <td>17.500</td>\n",
              "      <td>Low Fat</td>\n",
              "      <td>0.016760</td>\n",
              "      <td>Meat</td>\n",
              "      <td>141.6180</td>\n",
              "      <td>OUT049</td>\n",
              "      <td>1999</td>\n",
              "      <td>Medium</td>\n",
              "      <td>Tier 1</td>\n",
              "      <td>Supermarket Type1</td>\n",
              "      <td>2097.2700</td>\n",
              "    </tr>\n",
              "    <tr>\n",
              "      <th>3</th>\n",
              "      <td>FDX07</td>\n",
              "      <td>19.200</td>\n",
              "      <td>Regular</td>\n",
              "      <td>0.000000</td>\n",
              "      <td>Fruits and Vegetables</td>\n",
              "      <td>182.0950</td>\n",
              "      <td>OUT010</td>\n",
              "      <td>1998</td>\n",
              "      <td>NaN</td>\n",
              "      <td>Tier 3</td>\n",
              "      <td>Grocery Store</td>\n",
              "      <td>732.3800</td>\n",
              "    </tr>\n",
              "    <tr>\n",
              "      <th>4</th>\n",
              "      <td>NCD19</td>\n",
              "      <td>8.930</td>\n",
              "      <td>Low Fat</td>\n",
              "      <td>0.000000</td>\n",
              "      <td>Household</td>\n",
              "      <td>53.8614</td>\n",
              "      <td>OUT013</td>\n",
              "      <td>1987</td>\n",
              "      <td>High</td>\n",
              "      <td>Tier 3</td>\n",
              "      <td>Supermarket Type1</td>\n",
              "      <td>994.7052</td>\n",
              "    </tr>\n",
              "    <tr>\n",
              "      <th>5</th>\n",
              "      <td>FDP36</td>\n",
              "      <td>10.395</td>\n",
              "      <td>Regular</td>\n",
              "      <td>0.000000</td>\n",
              "      <td>Baking Goods</td>\n",
              "      <td>51.4008</td>\n",
              "      <td>OUT018</td>\n",
              "      <td>2009</td>\n",
              "      <td>Medium</td>\n",
              "      <td>Tier 3</td>\n",
              "      <td>Supermarket Type2</td>\n",
              "      <td>556.6088</td>\n",
              "    </tr>\n",
              "    <tr>\n",
              "      <th>6</th>\n",
              "      <td>FDO10</td>\n",
              "      <td>13.650</td>\n",
              "      <td>Regular</td>\n",
              "      <td>0.012741</td>\n",
              "      <td>Snack Foods</td>\n",
              "      <td>57.6588</td>\n",
              "      <td>OUT013</td>\n",
              "      <td>1987</td>\n",
              "      <td>High</td>\n",
              "      <td>Tier 3</td>\n",
              "      <td>Supermarket Type1</td>\n",
              "      <td>343.5528</td>\n",
              "    </tr>\n",
              "    <tr>\n",
              "      <th>7</th>\n",
              "      <td>FDP10</td>\n",
              "      <td>NaN</td>\n",
              "      <td>Low Fat</td>\n",
              "      <td>0.127470</td>\n",
              "      <td>Snack Foods</td>\n",
              "      <td>107.7622</td>\n",
              "      <td>OUT027</td>\n",
              "      <td>1985</td>\n",
              "      <td>Medium</td>\n",
              "      <td>Tier 3</td>\n",
              "      <td>Supermarket Type3</td>\n",
              "      <td>4022.7636</td>\n",
              "    </tr>\n",
              "    <tr>\n",
              "      <th>8</th>\n",
              "      <td>FDH17</td>\n",
              "      <td>16.200</td>\n",
              "      <td>Regular</td>\n",
              "      <td>0.016687</td>\n",
              "      <td>Frozen Foods</td>\n",
              "      <td>96.9726</td>\n",
              "      <td>OUT045</td>\n",
              "      <td>2002</td>\n",
              "      <td>NaN</td>\n",
              "      <td>Tier 2</td>\n",
              "      <td>Supermarket Type1</td>\n",
              "      <td>1076.5986</td>\n",
              "    </tr>\n",
              "    <tr>\n",
              "      <th>9</th>\n",
              "      <td>FDU28</td>\n",
              "      <td>19.200</td>\n",
              "      <td>Regular</td>\n",
              "      <td>0.094450</td>\n",
              "      <td>Frozen Foods</td>\n",
              "      <td>187.8214</td>\n",
              "      <td>OUT017</td>\n",
              "      <td>2007</td>\n",
              "      <td>NaN</td>\n",
              "      <td>Tier 2</td>\n",
              "      <td>Supermarket Type1</td>\n",
              "      <td>4710.5350</td>\n",
              "    </tr>\n",
              "  </tbody>\n",
              "</table>\n",
              "</div>"
            ],
            "text/plain": [
              "  Item_Identifier  Item_Weight  ...        Outlet_Type  Item_Outlet_Sales\n",
              "0           FDA15        9.300  ...  Supermarket Type1          3735.1380\n",
              "1           DRC01        5.920  ...  Supermarket Type2           443.4228\n",
              "2           FDN15       17.500  ...  Supermarket Type1          2097.2700\n",
              "3           FDX07       19.200  ...      Grocery Store           732.3800\n",
              "4           NCD19        8.930  ...  Supermarket Type1           994.7052\n",
              "5           FDP36       10.395  ...  Supermarket Type2           556.6088\n",
              "6           FDO10       13.650  ...  Supermarket Type1           343.5528\n",
              "7           FDP10          NaN  ...  Supermarket Type3          4022.7636\n",
              "8           FDH17       16.200  ...  Supermarket Type1          1076.5986\n",
              "9           FDU28       19.200  ...  Supermarket Type1          4710.5350\n",
              "\n",
              "[10 rows x 12 columns]"
            ]
          },
          "metadata": {
            "tags": []
          },
          "execution_count": 4
        }
      ]
    },
    {
      "cell_type": "code",
      "metadata": {
        "id": "-3JUIyuWhdxf",
        "colab_type": "code",
        "outputId": "811fbff4-025c-44dc-a9a0-66b443f27b2b",
        "colab": {
          "base_uri": "https://localhost:8080/",
          "height": 165
        }
      },
      "source": [
        "data.tail(2)"
      ],
      "execution_count": 5,
      "outputs": [
        {
          "output_type": "execute_result",
          "data": {
            "text/html": [
              "<div>\n",
              "<style scoped>\n",
              "    .dataframe tbody tr th:only-of-type {\n",
              "        vertical-align: middle;\n",
              "    }\n",
              "\n",
              "    .dataframe tbody tr th {\n",
              "        vertical-align: top;\n",
              "    }\n",
              "\n",
              "    .dataframe thead th {\n",
              "        text-align: right;\n",
              "    }\n",
              "</style>\n",
              "<table border=\"1\" class=\"dataframe\">\n",
              "  <thead>\n",
              "    <tr style=\"text-align: right;\">\n",
              "      <th></th>\n",
              "      <th>Item_Identifier</th>\n",
              "      <th>Item_Weight</th>\n",
              "      <th>Item_Fat_Content</th>\n",
              "      <th>Item_Visibility</th>\n",
              "      <th>Item_Type</th>\n",
              "      <th>Item_MRP</th>\n",
              "      <th>Outlet_Identifier</th>\n",
              "      <th>Outlet_Establishment_Year</th>\n",
              "      <th>Outlet_Size</th>\n",
              "      <th>Outlet_Location_Type</th>\n",
              "      <th>Outlet_Type</th>\n",
              "      <th>Item_Outlet_Sales</th>\n",
              "    </tr>\n",
              "  </thead>\n",
              "  <tbody>\n",
              "    <tr>\n",
              "      <th>14202</th>\n",
              "      <td>FDJ26</td>\n",
              "      <td>15.3</td>\n",
              "      <td>Regular</td>\n",
              "      <td>0.00000</td>\n",
              "      <td>Canned</td>\n",
              "      <td>214.6218</td>\n",
              "      <td>OUT017</td>\n",
              "      <td>2007</td>\n",
              "      <td>NaN</td>\n",
              "      <td>Tier 2</td>\n",
              "      <td>Supermarket Type1</td>\n",
              "      <td>NaN</td>\n",
              "    </tr>\n",
              "    <tr>\n",
              "      <th>14203</th>\n",
              "      <td>FDU37</td>\n",
              "      <td>9.5</td>\n",
              "      <td>Regular</td>\n",
              "      <td>0.10472</td>\n",
              "      <td>Canned</td>\n",
              "      <td>79.7960</td>\n",
              "      <td>OUT045</td>\n",
              "      <td>2002</td>\n",
              "      <td>NaN</td>\n",
              "      <td>Tier 2</td>\n",
              "      <td>Supermarket Type1</td>\n",
              "      <td>NaN</td>\n",
              "    </tr>\n",
              "  </tbody>\n",
              "</table>\n",
              "</div>"
            ],
            "text/plain": [
              "      Item_Identifier  Item_Weight  ...        Outlet_Type  Item_Outlet_Sales\n",
              "14202           FDJ26         15.3  ...  Supermarket Type1                NaN\n",
              "14203           FDU37          9.5  ...  Supermarket Type1                NaN\n",
              "\n",
              "[2 rows x 12 columns]"
            ]
          },
          "metadata": {
            "tags": []
          },
          "execution_count": 5
        }
      ]
    },
    {
      "cell_type": "code",
      "metadata": {
        "id": "5AMpqs75he7x",
        "colab_type": "code",
        "outputId": "491b26ac-729e-4076-aab8-5568458c04d2",
        "colab": {
          "base_uri": "https://localhost:8080/",
          "height": 261
        }
      },
      "source": [
        "data.iloc[8521:8525]\n",
        "# so test data will  start from 8523"
      ],
      "execution_count": 6,
      "outputs": [
        {
          "output_type": "execute_result",
          "data": {
            "text/html": [
              "<div>\n",
              "<style scoped>\n",
              "    .dataframe tbody tr th:only-of-type {\n",
              "        vertical-align: middle;\n",
              "    }\n",
              "\n",
              "    .dataframe tbody tr th {\n",
              "        vertical-align: top;\n",
              "    }\n",
              "\n",
              "    .dataframe thead th {\n",
              "        text-align: right;\n",
              "    }\n",
              "</style>\n",
              "<table border=\"1\" class=\"dataframe\">\n",
              "  <thead>\n",
              "    <tr style=\"text-align: right;\">\n",
              "      <th></th>\n",
              "      <th>Item_Identifier</th>\n",
              "      <th>Item_Weight</th>\n",
              "      <th>Item_Fat_Content</th>\n",
              "      <th>Item_Visibility</th>\n",
              "      <th>Item_Type</th>\n",
              "      <th>Item_MRP</th>\n",
              "      <th>Outlet_Identifier</th>\n",
              "      <th>Outlet_Establishment_Year</th>\n",
              "      <th>Outlet_Size</th>\n",
              "      <th>Outlet_Location_Type</th>\n",
              "      <th>Outlet_Type</th>\n",
              "      <th>Item_Outlet_Sales</th>\n",
              "    </tr>\n",
              "  </thead>\n",
              "  <tbody>\n",
              "    <tr>\n",
              "      <th>8521</th>\n",
              "      <td>FDN46</td>\n",
              "      <td>7.21</td>\n",
              "      <td>Regular</td>\n",
              "      <td>0.145221</td>\n",
              "      <td>Snack Foods</td>\n",
              "      <td>103.1332</td>\n",
              "      <td>OUT018</td>\n",
              "      <td>2009</td>\n",
              "      <td>Medium</td>\n",
              "      <td>Tier 3</td>\n",
              "      <td>Supermarket Type2</td>\n",
              "      <td>1845.5976</td>\n",
              "    </tr>\n",
              "    <tr>\n",
              "      <th>8522</th>\n",
              "      <td>DRG01</td>\n",
              "      <td>14.80</td>\n",
              "      <td>Low Fat</td>\n",
              "      <td>0.044878</td>\n",
              "      <td>Soft Drinks</td>\n",
              "      <td>75.4670</td>\n",
              "      <td>OUT046</td>\n",
              "      <td>1997</td>\n",
              "      <td>Small</td>\n",
              "      <td>Tier 1</td>\n",
              "      <td>Supermarket Type1</td>\n",
              "      <td>765.6700</td>\n",
              "    </tr>\n",
              "    <tr>\n",
              "      <th>8523</th>\n",
              "      <td>FDW58</td>\n",
              "      <td>20.75</td>\n",
              "      <td>Low Fat</td>\n",
              "      <td>0.007565</td>\n",
              "      <td>Snack Foods</td>\n",
              "      <td>107.8622</td>\n",
              "      <td>OUT049</td>\n",
              "      <td>1999</td>\n",
              "      <td>Medium</td>\n",
              "      <td>Tier 1</td>\n",
              "      <td>Supermarket Type1</td>\n",
              "      <td>NaN</td>\n",
              "    </tr>\n",
              "    <tr>\n",
              "      <th>8524</th>\n",
              "      <td>FDW14</td>\n",
              "      <td>8.30</td>\n",
              "      <td>reg</td>\n",
              "      <td>0.038428</td>\n",
              "      <td>Dairy</td>\n",
              "      <td>87.3198</td>\n",
              "      <td>OUT017</td>\n",
              "      <td>2007</td>\n",
              "      <td>NaN</td>\n",
              "      <td>Tier 2</td>\n",
              "      <td>Supermarket Type1</td>\n",
              "      <td>NaN</td>\n",
              "    </tr>\n",
              "  </tbody>\n",
              "</table>\n",
              "</div>"
            ],
            "text/plain": [
              "     Item_Identifier  Item_Weight  ...        Outlet_Type  Item_Outlet_Sales\n",
              "8521           FDN46         7.21  ...  Supermarket Type2          1845.5976\n",
              "8522           DRG01        14.80  ...  Supermarket Type1           765.6700\n",
              "8523           FDW58        20.75  ...  Supermarket Type1                NaN\n",
              "8524           FDW14         8.30  ...  Supermarket Type1                NaN\n",
              "\n",
              "[4 rows x 12 columns]"
            ]
          },
          "metadata": {
            "tags": []
          },
          "execution_count": 6
        }
      ]
    },
    {
      "cell_type": "code",
      "metadata": {
        "id": "zWZnFSIxifTe",
        "colab_type": "code",
        "outputId": "75996267-bb19-4d43-f3fc-7d7fb22aa81c",
        "colab": {
          "base_uri": "https://localhost:8080/",
          "height": 102
        }
      },
      "source": [
        "data.columns"
      ],
      "execution_count": 7,
      "outputs": [
        {
          "output_type": "execute_result",
          "data": {
            "text/plain": [
              "Index(['Item_Identifier', 'Item_Weight', 'Item_Fat_Content', 'Item_Visibility',\n",
              "       'Item_Type', 'Item_MRP', 'Outlet_Identifier',\n",
              "       'Outlet_Establishment_Year', 'Outlet_Size', 'Outlet_Location_Type',\n",
              "       'Outlet_Type', 'Item_Outlet_Sales'],\n",
              "      dtype='object')"
            ]
          },
          "metadata": {
            "tags": []
          },
          "execution_count": 7
        }
      ]
    },
    {
      "cell_type": "markdown",
      "metadata": {
        "id": "3vHgWreGiGGK",
        "colab_type": "text"
      },
      "source": [
        "<h1><b>1. \n",
        "Basic EDA Feature wise"
      ]
    },
    {
      "cell_type": "markdown",
      "metadata": {
        "id": "jY-PPV-kijjU",
        "colab_type": "text"
      },
      "source": [
        "# <h2><b> 1.1 Item_Identifier"
      ]
    },
    {
      "cell_type": "code",
      "metadata": {
        "id": "7LMGjgnph1aY",
        "colab_type": "code",
        "outputId": "19e9e586-d77d-4856-d9be-54926de1db3f",
        "colab": {
          "base_uri": "https://localhost:8080/",
          "height": 51
        }
      },
      "source": [
        "print('No of unique item in BIG_MART is : ',len(pd.Series(data['Item_Identifier']).unique()))\n",
        "print('Check is there any null value for Item_Identifier : ',pd.isnull(data['Item_Identifier']).any())"
      ],
      "execution_count": 8,
      "outputs": [
        {
          "output_type": "stream",
          "text": [
            "No of unique item in BIG_MART is :  1559\n",
            "Check is there any null value for Item_Identifier :  False\n"
          ],
          "name": "stdout"
        }
      ]
    },
    {
      "cell_type": "markdown",
      "metadata": {
        "colab_type": "text",
        "id": "HXuW5ayHjqGT"
      },
      "source": [
        "#<h2><b> 1.2 Item_Weight---Realvalue"
      ]
    },
    {
      "cell_type": "code",
      "metadata": {
        "colab_type": "code",
        "outputId": "7c8fb419-c4c5-45cc-f610-37ae8c0a0e65",
        "id": "IPOb1flVjqGh",
        "colab": {
          "base_uri": "https://localhost:8080/",
          "height": 51
        }
      },
      "source": [
        "print('Check is there any null value for Item_Weight : ',pd.isnull(data['Item_Weight']).any())\n",
        "print('No of item with null Item_Weight : ' ,sum(pd.isnull(data['Item_Weight'])))"
      ],
      "execution_count": 9,
      "outputs": [
        {
          "output_type": "stream",
          "text": [
            "Check is there any null value for Item_Weight :  True\n",
            "No of item with null Item_Weight :  2439\n"
          ],
          "name": "stdout"
        }
      ]
    },
    {
      "cell_type": "code",
      "metadata": {
        "id": "e8uhLF4Ml4_k",
        "colab_type": "code",
        "outputId": "02cfde9d-7cfe-44a0-db25-ee49fb0ea350",
        "colab": {
          "base_uri": "https://localhost:8080/",
          "height": 309
        }
      },
      "source": [
        "missing_weight_index = pd.isnull(data['Item_Weight'])\n",
        "data.iloc[list(missing_weight_index)].head(5)"
      ],
      "execution_count": 10,
      "outputs": [
        {
          "output_type": "execute_result",
          "data": {
            "text/html": [
              "<div>\n",
              "<style scoped>\n",
              "    .dataframe tbody tr th:only-of-type {\n",
              "        vertical-align: middle;\n",
              "    }\n",
              "\n",
              "    .dataframe tbody tr th {\n",
              "        vertical-align: top;\n",
              "    }\n",
              "\n",
              "    .dataframe thead th {\n",
              "        text-align: right;\n",
              "    }\n",
              "</style>\n",
              "<table border=\"1\" class=\"dataframe\">\n",
              "  <thead>\n",
              "    <tr style=\"text-align: right;\">\n",
              "      <th></th>\n",
              "      <th>Item_Identifier</th>\n",
              "      <th>Item_Weight</th>\n",
              "      <th>Item_Fat_Content</th>\n",
              "      <th>Item_Visibility</th>\n",
              "      <th>Item_Type</th>\n",
              "      <th>Item_MRP</th>\n",
              "      <th>Outlet_Identifier</th>\n",
              "      <th>Outlet_Establishment_Year</th>\n",
              "      <th>Outlet_Size</th>\n",
              "      <th>Outlet_Location_Type</th>\n",
              "      <th>Outlet_Type</th>\n",
              "      <th>Item_Outlet_Sales</th>\n",
              "    </tr>\n",
              "  </thead>\n",
              "  <tbody>\n",
              "    <tr>\n",
              "      <th>7</th>\n",
              "      <td>FDP10</td>\n",
              "      <td>NaN</td>\n",
              "      <td>Low Fat</td>\n",
              "      <td>0.127470</td>\n",
              "      <td>Snack Foods</td>\n",
              "      <td>107.7622</td>\n",
              "      <td>OUT027</td>\n",
              "      <td>1985</td>\n",
              "      <td>Medium</td>\n",
              "      <td>Tier 3</td>\n",
              "      <td>Supermarket Type3</td>\n",
              "      <td>4022.7636</td>\n",
              "    </tr>\n",
              "    <tr>\n",
              "      <th>18</th>\n",
              "      <td>DRI11</td>\n",
              "      <td>NaN</td>\n",
              "      <td>Low Fat</td>\n",
              "      <td>0.034238</td>\n",
              "      <td>Hard Drinks</td>\n",
              "      <td>113.2834</td>\n",
              "      <td>OUT027</td>\n",
              "      <td>1985</td>\n",
              "      <td>Medium</td>\n",
              "      <td>Tier 3</td>\n",
              "      <td>Supermarket Type3</td>\n",
              "      <td>2303.6680</td>\n",
              "    </tr>\n",
              "    <tr>\n",
              "      <th>21</th>\n",
              "      <td>FDW12</td>\n",
              "      <td>NaN</td>\n",
              "      <td>Regular</td>\n",
              "      <td>0.035400</td>\n",
              "      <td>Baking Goods</td>\n",
              "      <td>144.5444</td>\n",
              "      <td>OUT027</td>\n",
              "      <td>1985</td>\n",
              "      <td>Medium</td>\n",
              "      <td>Tier 3</td>\n",
              "      <td>Supermarket Type3</td>\n",
              "      <td>4064.0432</td>\n",
              "    </tr>\n",
              "    <tr>\n",
              "      <th>23</th>\n",
              "      <td>FDC37</td>\n",
              "      <td>NaN</td>\n",
              "      <td>Low Fat</td>\n",
              "      <td>0.057557</td>\n",
              "      <td>Baking Goods</td>\n",
              "      <td>107.6938</td>\n",
              "      <td>OUT019</td>\n",
              "      <td>1985</td>\n",
              "      <td>Small</td>\n",
              "      <td>Tier 1</td>\n",
              "      <td>Grocery Store</td>\n",
              "      <td>214.3876</td>\n",
              "    </tr>\n",
              "    <tr>\n",
              "      <th>29</th>\n",
              "      <td>FDC14</td>\n",
              "      <td>NaN</td>\n",
              "      <td>Regular</td>\n",
              "      <td>0.072222</td>\n",
              "      <td>Canned</td>\n",
              "      <td>43.6454</td>\n",
              "      <td>OUT019</td>\n",
              "      <td>1985</td>\n",
              "      <td>Small</td>\n",
              "      <td>Tier 1</td>\n",
              "      <td>Grocery Store</td>\n",
              "      <td>125.8362</td>\n",
              "    </tr>\n",
              "  </tbody>\n",
              "</table>\n",
              "</div>"
            ],
            "text/plain": [
              "   Item_Identifier  Item_Weight  ...        Outlet_Type  Item_Outlet_Sales\n",
              "7            FDP10          NaN  ...  Supermarket Type3          4022.7636\n",
              "18           DRI11          NaN  ...  Supermarket Type3          2303.6680\n",
              "21           FDW12          NaN  ...  Supermarket Type3          4064.0432\n",
              "23           FDC37          NaN  ...      Grocery Store           214.3876\n",
              "29           FDC14          NaN  ...      Grocery Store           125.8362\n",
              "\n",
              "[5 rows x 12 columns]"
            ]
          },
          "metadata": {
            "tags": []
          },
          "execution_count": 10
        }
      ]
    },
    {
      "cell_type": "code",
      "metadata": {
        "id": "8faO3xzYsnC5",
        "colab_type": "code",
        "colab": {}
      },
      "source": [
        "groupby_item_identifier = data.groupby('Item_Identifier')\n",
        "a = groupby_item_identifier.mean()['Item_Weight']\n",
        "\n",
        "def weight_missing(row):\n",
        "    if pd.isnull(row['Item_Weight']):\n",
        "        return a.loc[row['Item_Identifier']]\n",
        "    else:\n",
        "        return row['Item_Weight']"
      ],
      "execution_count": 0,
      "outputs": []
    },
    {
      "cell_type": "code",
      "metadata": {
        "id": "azZhAsesxLAT",
        "colab_type": "code",
        "colab": {}
      },
      "source": [
        "data['Item_Weight'] = data[['Item_Identifier','Item_Weight']].apply(lambda x: weight_missing(x),axis=1)"
      ],
      "execution_count": 0,
      "outputs": []
    },
    {
      "cell_type": "code",
      "metadata": {
        "id": "6n5OCWH8CQqp",
        "colab_type": "code",
        "outputId": "44217384-bd34-4480-fe33-08f25efa6b52",
        "colab": {
          "base_uri": "https://localhost:8080/",
          "height": 374
        }
      },
      "source": [
        "data['Item_Weight'].head(20)"
      ],
      "execution_count": 13,
      "outputs": [
        {
          "output_type": "execute_result",
          "data": {
            "text/plain": [
              "0      9.300\n",
              "1      5.920\n",
              "2     17.500\n",
              "3     19.200\n",
              "4      8.930\n",
              "5     10.395\n",
              "6     13.650\n",
              "7     19.000\n",
              "8     16.200\n",
              "9     19.200\n",
              "10    11.800\n",
              "11    18.500\n",
              "12    15.100\n",
              "13    17.600\n",
              "14    16.350\n",
              "15     9.000\n",
              "16    11.800\n",
              "17     9.000\n",
              "18     8.260\n",
              "19    13.350\n",
              "Name: Item_Weight, dtype: float64"
            ]
          },
          "metadata": {
            "tags": []
          },
          "execution_count": 13
        }
      ]
    },
    {
      "cell_type": "code",
      "metadata": {
        "id": "2Tv8E097KxAZ",
        "colab_type": "code",
        "outputId": "f1636fe3-8e61-45ce-f52f-7353baba53f8",
        "colab": {
          "base_uri": "https://localhost:8080/",
          "height": 297
        }
      },
      "source": [
        "sns.distplot(data['Item_Weight'])"
      ],
      "execution_count": 14,
      "outputs": [
        {
          "output_type": "execute_result",
          "data": {
            "text/plain": [
              "<matplotlib.axes._subplots.AxesSubplot at 0x7fd8ef5623c8>"
            ]
          },
          "metadata": {
            "tags": []
          },
          "execution_count": 14
        },
        {
          "output_type": "display_data",
          "data": {
            "image/png": "[encoded data removed]",
            "text/plain": [
              "<Figure size 432x288 with 1 Axes>"
            ]
          },
          "metadata": {
            "tags": []
          }
        }
      ]
    },
    {
      "cell_type": "markdown",
      "metadata": {
        "id": "XqxQFWVadQul",
        "colab_type": "text"
      },
      "source": [
        "# <h2><b>1.3 Item_Fat_Content---Categorical (Low Fat, Regular)"
      ]
    },
    {
      "cell_type": "code",
      "metadata": {
        "id": "akRDATG4oHNQ",
        "colab_type": "code",
        "outputId": "580627e9-a04d-446a-c3a9-4c8361e9b82c",
        "colab": {
          "base_uri": "https://localhost:8080/",
          "height": 34
        }
      },
      "source": [
        "print('Check Null value for Item_Fat_Content',data['Item_Fat_Content'].isnull().any())"
      ],
      "execution_count": 15,
      "outputs": [
        {
          "output_type": "stream",
          "text": [
            "Check Null value for Item_Fat_Content False\n"
          ],
          "name": "stdout"
        }
      ]
    },
    {
      "cell_type": "code",
      "metadata": {
        "id": "e1cWCf0ELHIO",
        "colab_type": "code",
        "outputId": "e89e0254-48d9-4e4f-adbd-88bc2df8e450",
        "colab": {
          "base_uri": "https://localhost:8080/",
          "height": 119
        }
      },
      "source": [
        "print(data['Item_Fat_Content'].value_counts())"
      ],
      "execution_count": 16,
      "outputs": [
        {
          "output_type": "stream",
          "text": [
            "Low Fat    8485\n",
            "Regular    4824\n",
            "LF          522\n",
            "reg         195\n",
            "low fat     178\n",
            "Name: Item_Fat_Content, dtype: int64\n"
          ],
          "name": "stdout"
        }
      ]
    },
    {
      "cell_type": "code",
      "metadata": {
        "id": "SNjJe9iXdPqF",
        "colab_type": "code",
        "outputId": "54fc24e7-25f3-4822-c811-c99a3b1cf131",
        "colab": {
          "base_uri": "https://localhost:8080/",
          "height": 68
        }
      },
      "source": [
        "data['Item_Fat_Content']=data['Item_Fat_Content'].replace({'LF':'Low Fat','reg':'Regular','low fat':'Low Fat'})\n",
        "print(data['Item_Fat_Content'].value_counts())"
      ],
      "execution_count": 17,
      "outputs": [
        {
          "output_type": "stream",
          "text": [
            "Low Fat    9185\n",
            "Regular    5019\n",
            "Name: Item_Fat_Content, dtype: int64\n"
          ],
          "name": "stdout"
        }
      ]
    },
    {
      "cell_type": "code",
      "metadata": {
        "id": "xaWlDSDHeYUS",
        "colab_type": "code",
        "outputId": "bcb859d8-5b8b-47a1-ee76-72979db119b4",
        "colab": {
          "base_uri": "https://localhost:8080/",
          "height": 297
        }
      },
      "source": [
        "sns.countplot(data['Item_Fat_Content'])"
      ],
      "execution_count": 18,
      "outputs": [
        {
          "output_type": "execute_result",
          "data": {
            "text/plain": [
              "<matplotlib.axes._subplots.AxesSubplot at 0x7fd8eefbc240>"
            ]
          },
          "metadata": {
            "tags": []
          },
          "execution_count": 18
        },
        {
          "output_type": "display_data",
          "data": {
            "image/png": "[encoded data removed]",
            "text/plain": [
              "<Figure size 432x288 with 1 Axes>"
            ]
          },
          "metadata": {
            "tags": []
          }
        }
      ]
    },
    {
      "cell_type": "code",
      "metadata": {
        "id": "RcVZ6tS8gcbR",
        "colab_type": "code",
        "colab": {}
      },
      "source": [
        "ohe = OneHotEncoder()\n",
        "label_fat = ohe.fit_transform(np.array(data['Item_Fat_Content']).reshape(-1,1))\n",
        "label_fat = label_fat.toarray()\n",
        "label_fat = pd.DataFrame(label_fat,columns=['Item_Fat_Content_0','Item_Fat_Content_1'])\n",
        "data[['Item_Fat_Content_0','Item_Fat_Content_1']] = label_fat[['Item_Fat_Content_0','Item_Fat_Content_1']]"
      ],
      "execution_count": 0,
      "outputs": []
    },
    {
      "cell_type": "code",
      "metadata": {
        "id": "HXAM4pNlhEEV",
        "colab_type": "code",
        "outputId": "20d06033-e94a-4b6b-bcea-568dbf56ec62",
        "colab": {
          "base_uri": "https://localhost:8080/",
          "height": 102
        }
      },
      "source": [
        "data.drop(['Item_Fat_Content'],axis=1,inplace=True)\n",
        "data.columns\n"
      ],
      "execution_count": 20,
      "outputs": [
        {
          "output_type": "execute_result",
          "data": {
            "text/plain": [
              "Index(['Item_Identifier', 'Item_Weight', 'Item_Visibility', 'Item_Type',\n",
              "       'Item_MRP', 'Outlet_Identifier', 'Outlet_Establishment_Year',\n",
              "       'Outlet_Size', 'Outlet_Location_Type', 'Outlet_Type',\n",
              "       'Item_Outlet_Sales', 'Item_Fat_Content_0', 'Item_Fat_Content_1'],\n",
              "      dtype='object')"
            ]
          },
          "metadata": {
            "tags": []
          },
          "execution_count": 20
        }
      ]
    },
    {
      "cell_type": "markdown",
      "metadata": {
        "id": "qlpKM77Fn1Vu",
        "colab_type": "text"
      },
      "source": [
        "# <h2><b>1.4 Item_Visibility---Realvalue"
      ]
    },
    {
      "cell_type": "markdown",
      "metadata": {
        "id": "tMF4OGnao4B0",
        "colab_type": "text"
      },
      "source": [
        "Here some if item_visibility is 0 which is notpossible "
      ]
    },
    {
      "cell_type": "code",
      "metadata": {
        "id": "Tu0ROQ1Zmd_s",
        "colab_type": "code",
        "outputId": "02608ee8-d620-4efc-8e4a-e55e47cacbe6",
        "colab": {
          "base_uri": "https://localhost:8080/",
          "height": 51
        }
      },
      "source": [
        "print('Check Null value for Item_Fat_Content :',data['Item_Visibility'].isnull().any())\n",
        "print('No of item with visibility = 0 is : ',data[data['Item_Visibility'] == 0].shape[0])"
      ],
      "execution_count": 21,
      "outputs": [
        {
          "output_type": "stream",
          "text": [
            "Check Null value for Item_Fat_Content : False\n",
            "No of item with visibility = 0 is :  879\n"
          ],
          "name": "stdout"
        }
      ]
    },
    {
      "cell_type": "code",
      "metadata": {
        "id": "8h9jQX6VofvN",
        "colab_type": "code",
        "outputId": "dc162733-0ad3-4e7d-e9b6-85b3341c4c48",
        "colab": {
          "base_uri": "https://localhost:8080/",
          "height": 297
        }
      },
      "source": [
        "sns.distplot(data['Item_Visibility'])"
      ],
      "execution_count": 22,
      "outputs": [
        {
          "output_type": "execute_result",
          "data": {
            "text/plain": [
              "<matplotlib.axes._subplots.AxesSubplot at 0x7fd8eef1fb00>"
            ]
          },
          "metadata": {
            "tags": []
          },
          "execution_count": 22
        },
        {
          "output_type": "display_data",
          "data": {
            "image/png": "[encoded data removed]",
            "text/plain": [
              "<Figure size 432x288 with 1 Axes>"
            ]
          },
          "metadata": {
            "tags": []
          }
        }
      ]
    },
    {
      "cell_type": "code",
      "metadata": {
        "id": "mvyhYUUaooMz",
        "colab_type": "code",
        "outputId": "fae9b4c6-772f-44ba-bfb3-b74d6995ceb6",
        "colab": {
          "base_uri": "https://localhost:8080/",
          "height": 238
        }
      },
      "source": [
        "a = data.groupby('Item_Identifier').mean()['Item_Visibility']\n",
        "print(a)\n",
        "def missing_visibility(row):\n",
        "    if row['Item_Visibility'] == 0:\n",
        "        return a.loc[row['Item_Identifier']]\n",
        "    else:\n",
        "        return row['Item_Visibility']"
      ],
      "execution_count": 23,
      "outputs": [
        {
          "output_type": "stream",
          "text": [
            "Item_Identifier\n",
            "DRA12    0.034938\n",
            "DRA24    0.045646\n",
            "DRA59    0.133384\n",
            "DRB01    0.079736\n",
            "DRB13    0.006799\n",
            "           ...   \n",
            "NCZ30    0.027302\n",
            "NCZ41    0.056396\n",
            "NCZ42    0.011015\n",
            "NCZ53    0.026330\n",
            "NCZ54    0.081345\n",
            "Name: Item_Visibility, Length: 1559, dtype: float64\n"
          ],
          "name": "stdout"
        }
      ]
    },
    {
      "cell_type": "code",
      "metadata": {
        "id": "SULUgncAq8v9",
        "colab_type": "code",
        "colab": {}
      },
      "source": [
        "data['Item_Visibility'] = data[['Item_Identifier','Item_Visibility']].apply(lambda x : missing_visibility(x),axis=1)"
      ],
      "execution_count": 0,
      "outputs": []
    },
    {
      "cell_type": "code",
      "metadata": {
        "id": "I9Ldt-5arst3",
        "colab_type": "code",
        "outputId": "105c4045-6f49-4235-fa2a-c6ea48e949d9",
        "colab": {
          "base_uri": "https://localhost:8080/",
          "height": 34
        }
      },
      "source": [
        "print('No of item with visibility = 0 is : ',data[data['Item_Visibility'] == 0].shape[0])"
      ],
      "execution_count": 25,
      "outputs": [
        {
          "output_type": "stream",
          "text": [
            "No of item with visibility = 0 is :  0\n"
          ],
          "name": "stdout"
        }
      ]
    },
    {
      "cell_type": "markdown",
      "metadata": {
        "colab_type": "text",
        "id": "Npj56ojlv9ul"
      },
      "source": [
        "# <h2><b>1.5 Item_Type---Categorical()"
      ]
    },
    {
      "cell_type": "code",
      "metadata": {
        "colab_type": "code",
        "outputId": "f861a2ef-e2bf-4402-df92-12c688157705",
        "id": "f5chRbsXv9ut",
        "colab": {
          "base_uri": "https://localhost:8080/",
          "height": 34
        }
      },
      "source": [
        "print('Check Null value for Item_Type :',data['Item_Type'].isnull().any())"
      ],
      "execution_count": 26,
      "outputs": [
        {
          "output_type": "stream",
          "text": [
            "Check Null value for Item_Type : False\n"
          ],
          "name": "stdout"
        }
      ]
    },
    {
      "cell_type": "code",
      "metadata": {
        "id": "LQWdYXAZr5X8",
        "colab_type": "code",
        "outputId": "ea112ac2-0786-471f-df61-abe9ec5b9d31",
        "colab": {
          "base_uri": "https://localhost:8080/",
          "height": 306
        }
      },
      "source": [
        "data['Item_Type'].value_counts()\n"
      ],
      "execution_count": 27,
      "outputs": [
        {
          "output_type": "execute_result",
          "data": {
            "text/plain": [
              "Fruits and Vegetables    2013\n",
              "Snack Foods              1989\n",
              "Household                1548\n",
              "Frozen Foods             1426\n",
              "Dairy                    1136\n",
              "Baking Goods             1086\n",
              "Canned                   1084\n",
              "Health and Hygiene        858\n",
              "Meat                      736\n",
              "Soft Drinks               726\n",
              "Breads                    416\n",
              "Hard Drinks               362\n",
              "Others                    280\n",
              "Starchy Foods             269\n",
              "Breakfast                 186\n",
              "Seafood                    89\n",
              "Name: Item_Type, dtype: int64"
            ]
          },
          "metadata": {
            "tags": []
          },
          "execution_count": 27
        }
      ]
    },
    {
      "cell_type": "code",
      "metadata": {
        "id": "-dJ1cIlGwSOB",
        "colab_type": "code",
        "outputId": "1d752e8d-4eac-44dd-b2e2-a28742c04fd6",
        "colab": {
          "base_uri": "https://localhost:8080/",
          "height": 406
        }
      },
      "source": [
        "plt.figure(figsize=(20,6))\n",
        "sns.countplot(data['Item_Type'])"
      ],
      "execution_count": 28,
      "outputs": [
        {
          "output_type": "execute_result",
          "data": {
            "text/plain": [
              "<matplotlib.axes._subplots.AxesSubplot at 0x7fd8ef459828>"
            ]
          },
          "metadata": {
            "tags": []
          },
          "execution_count": 28
        },
        {
          "output_type": "display_data",
          "data": {
            "image/png": "[encoded data removed]",
            "text/plain": [
              "<Figure size 1440x432 with 1 Axes>"
            ]
          },
          "metadata": {
            "tags": []
          }
        }
      ]
    },
    {
      "cell_type": "code",
      "metadata": {
        "id": "LrFvT9_hLQw2",
        "colab_type": "code",
        "colab": {}
      },
      "source": [
        "# here we replace 16 category to 3 category\n",
        "data['Item_Type'] = data['Item_Identifier'].apply(lambda x : x[:2])\n"
      ],
      "execution_count": 0,
      "outputs": []
    },
    {
      "cell_type": "code",
      "metadata": {
        "id": "O_fYh3XRwbpv",
        "colab_type": "code",
        "colab": {}
      },
      "source": [
        "ohe = OneHotEncoder()\n",
        "label_fat = ohe.fit_transform(np.array(data['Item_Type']).reshape(-1,1))\n",
        "label_fat = label_fat.toarray()\n",
        "label_fat = pd.DataFrame(label_fat,columns=['Item_Type_0','Item_Type_1','Item_Type2'])\n",
        "data[['Item_Type_0','Item_Type_1','Item_Type2']] = label_fat[['Item_Type_0','Item_Type_1','Item_Type2']]"
      ],
      "execution_count": 0,
      "outputs": []
    },
    {
      "cell_type": "code",
      "metadata": {
        "id": "Oec68HjBxc9t",
        "colab_type": "code",
        "colab": {}
      },
      "source": [
        "data.drop(['Item_Type'],axis=1,inplace=True)"
      ],
      "execution_count": 0,
      "outputs": []
    },
    {
      "cell_type": "code",
      "metadata": {
        "id": "9GiH4jusxi76",
        "colab_type": "code",
        "outputId": "aefae9db-25f2-40a9-fe3d-92e7b5779a83",
        "colab": {
          "base_uri": "https://localhost:8080/",
          "height": 119
        }
      },
      "source": [
        "print(data.columns)"
      ],
      "execution_count": 32,
      "outputs": [
        {
          "output_type": "stream",
          "text": [
            "Index(['Item_Identifier', 'Item_Weight', 'Item_Visibility', 'Item_MRP',\n",
            "       'Outlet_Identifier', 'Outlet_Establishment_Year', 'Outlet_Size',\n",
            "       'Outlet_Location_Type', 'Outlet_Type', 'Item_Outlet_Sales',\n",
            "       'Item_Fat_Content_0', 'Item_Fat_Content_1', 'Item_Type_0',\n",
            "       'Item_Type_1', 'Item_Type2'],\n",
            "      dtype='object')\n"
          ],
          "name": "stdout"
        }
      ]
    },
    {
      "cell_type": "markdown",
      "metadata": {
        "id": "FhSaByZrx6IW",
        "colab_type": "text"
      },
      "source": [
        "# <h2><b>1.6 Item_MRP---Realvalue"
      ]
    },
    {
      "cell_type": "code",
      "metadata": {
        "id": "uOwcyEcZxltv",
        "colab_type": "code",
        "outputId": "20af4c28-5baa-4e2f-8dce-f156f050cba3",
        "colab": {
          "base_uri": "https://localhost:8080/",
          "height": 34
        }
      },
      "source": [
        "print('Check Null value for Item_MRP :',data['Item_MRP'].isnull().any())"
      ],
      "execution_count": 33,
      "outputs": [
        {
          "output_type": "stream",
          "text": [
            "Check Null value for Item_MRP : False\n"
          ],
          "name": "stdout"
        }
      ]
    },
    {
      "cell_type": "code",
      "metadata": {
        "id": "wX5h9pGmyGhZ",
        "colab_type": "code",
        "outputId": "3a2a870c-b4ba-4a64-ac5b-ca393a0bb226",
        "colab": {
          "base_uri": "https://localhost:8080/",
          "height": 297
        }
      },
      "source": [
        "sns.distplot(data['Item_MRP'])"
      ],
      "execution_count": 34,
      "outputs": [
        {
          "output_type": "execute_result",
          "data": {
            "text/plain": [
              "<matplotlib.axes._subplots.AxesSubplot at 0x7fd8eedc78d0>"
            ]
          },
          "metadata": {
            "tags": []
          },
          "execution_count": 34
        },
        {
          "output_type": "display_data",
          "data": {
            "image/png": "[encoded data removed]",
            "text/plain": [
              "<Figure size 432x288 with 1 Axes>"
            ]
          },
          "metadata": {
            "tags": []
          }
        }
      ]
    },
    {
      "cell_type": "markdown",
      "metadata": {
        "colab_type": "text",
        "id": "cl8q2mpP0zC4"
      },
      "source": [
        "# <h2><b> 1.7 Outlet_Identifier"
      ]
    },
    {
      "cell_type": "code",
      "metadata": {
        "colab_type": "code",
        "outputId": "8367185a-71a2-4365-9404-da8aec9bfdc5",
        "id": "84k9E4YH0zDU",
        "colab": {
          "base_uri": "https://localhost:8080/",
          "height": 51
        }
      },
      "source": [
        "print('No of unique outlet in BIG_MART is : ',len(pd.Series(data['Outlet_Identifier']).unique()))\n",
        "print('Check is there any null value for Outlet_Identifier : ',pd.isnull(data['Outlet_Identifier']).any())"
      ],
      "execution_count": 35,
      "outputs": [
        {
          "output_type": "stream",
          "text": [
            "No of unique outlet in BIG_MART is :  10\n",
            "Check is there any null value for Outlet_Identifier :  False\n"
          ],
          "name": "stdout"
        }
      ]
    },
    {
      "cell_type": "code",
      "metadata": {
        "id": "0ffcE4mRyLuY",
        "colab_type": "code",
        "outputId": "2c9b1f45-5558-4ed9-8d8e-b36ad68c7092",
        "colab": {
          "base_uri": "https://localhost:8080/",
          "height": 406
        }
      },
      "source": [
        "plt.figure(figsize=(15,6))\n",
        "sns.countplot(data['Outlet_Identifier'])\n",
        "# No of outlet for eeach outlet_identifier"
      ],
      "execution_count": 36,
      "outputs": [
        {
          "output_type": "execute_result",
          "data": {
            "text/plain": [
              "<matplotlib.axes._subplots.AxesSubplot at 0x7fd8eed825f8>"
            ]
          },
          "metadata": {
            "tags": []
          },
          "execution_count": 36
        },
        {
          "output_type": "display_data",
          "data": {
            "image/png": "[encoded data removed]",
            "text/plain": [
              "<Figure size 1080x432 with 1 Axes>"
            ]
          },
          "metadata": {
            "tags": []
          }
        }
      ]
    },
    {
      "cell_type": "code",
      "metadata": {
        "id": "DV_njXIYPMQx",
        "colab_type": "code",
        "colab": {}
      },
      "source": [
        "la = ['Outlet_Identifier_'+str(i) for i in range(0,10)]"
      ],
      "execution_count": 0,
      "outputs": []
    },
    {
      "cell_type": "code",
      "metadata": {
        "id": "m7dBpu7zNyZ6",
        "colab_type": "code",
        "colab": {}
      },
      "source": [
        "ohe = OneHotEncoder()\n",
        "label_fat = ohe.fit_transform(np.array(data['Outlet_Identifier']).reshape(-1,1))\n",
        "label_fat = label_fat.toarray()\n",
        "label_fat = pd.DataFrame(label_fat,columns=la)\n",
        "data[la] = label_fat[la]"
      ],
      "execution_count": 0,
      "outputs": []
    },
    {
      "cell_type": "code",
      "metadata": {
        "id": "Y1VaA-XEOP_R",
        "colab_type": "code",
        "outputId": "1174d286-c621-4043-8e9e-883645903264",
        "colab": {
          "base_uri": "https://localhost:8080/",
          "height": 170
        }
      },
      "source": [
        "data.columns\n"
      ],
      "execution_count": 39,
      "outputs": [
        {
          "output_type": "execute_result",
          "data": {
            "text/plain": [
              "Index(['Item_Identifier', 'Item_Weight', 'Item_Visibility', 'Item_MRP',\n",
              "       'Outlet_Identifier', 'Outlet_Establishment_Year', 'Outlet_Size',\n",
              "       'Outlet_Location_Type', 'Outlet_Type', 'Item_Outlet_Sales',\n",
              "       'Item_Fat_Content_0', 'Item_Fat_Content_1', 'Item_Type_0',\n",
              "       'Item_Type_1', 'Item_Type2', 'Outlet_Identifier_0',\n",
              "       'Outlet_Identifier_1', 'Outlet_Identifier_2', 'Outlet_Identifier_3',\n",
              "       'Outlet_Identifier_4', 'Outlet_Identifier_5', 'Outlet_Identifier_6',\n",
              "       'Outlet_Identifier_7', 'Outlet_Identifier_8', 'Outlet_Identifier_9'],\n",
              "      dtype='object')"
            ]
          },
          "metadata": {
            "tags": []
          },
          "execution_count": 39
        }
      ]
    },
    {
      "cell_type": "markdown",
      "metadata": {
        "id": "qbt-ZBNe1kKd",
        "colab_type": "text"
      },
      "source": [
        "# <h2><b> 1.8 Outlet_Size---Categorical(small,medium,high)"
      ]
    },
    {
      "cell_type": "code",
      "metadata": {
        "id": "abf3KY2B1HnO",
        "colab_type": "code",
        "outputId": "65cc9ab4-8b2b-4aa7-8103-39dbf24e7abc",
        "colab": {
          "base_uri": "https://localhost:8080/",
          "height": 34
        }
      },
      "source": [
        "print('Check for Null value in Outlet_Size : ',data['Outlet_Size'].isnull().any())\n",
        "# replace null value with outlet size \n",
        "# outletsize depend on outlettype"
      ],
      "execution_count": 40,
      "outputs": [
        {
          "output_type": "stream",
          "text": [
            "Check for Null value in Outlet_Size :  True\n"
          ],
          "name": "stdout"
        }
      ]
    },
    {
      "cell_type": "code",
      "metadata": {
        "id": "0nSnR7vl54vN",
        "colab_type": "code",
        "outputId": "e0aa8e60-802d-48c4-d5d2-0b4acd82ed16",
        "colab": {
          "base_uri": "https://localhost:8080/",
          "height": 85
        }
      },
      "source": [
        "data['Outlet_Size'].value_counts()"
      ],
      "execution_count": 41,
      "outputs": [
        {
          "output_type": "execute_result",
          "data": {
            "text/plain": [
              "Medium    4655\n",
              "Small     3980\n",
              "High      1553\n",
              "Name: Outlet_Size, dtype: int64"
            ]
          },
          "metadata": {
            "tags": []
          },
          "execution_count": 41
        }
      ]
    },
    {
      "cell_type": "code",
      "metadata": {
        "id": "1ZYG7gam2Sc2",
        "colab_type": "code",
        "outputId": "4f981bc9-0345-47d5-e99d-ec6905d29e8c",
        "colab": {
          "base_uri": "https://localhost:8080/",
          "height": 337
        }
      },
      "source": [
        "a = data.groupby(['Outlet_Type','Outlet_Size'])\n",
        "a.count()"
      ],
      "execution_count": 42,
      "outputs": [
        {
          "output_type": "execute_result",
          "data": {
            "text/html": [
              "<div>\n",
              "<style scoped>\n",
              "    .dataframe tbody tr th:only-of-type {\n",
              "        vertical-align: middle;\n",
              "    }\n",
              "\n",
              "    .dataframe tbody tr th {\n",
              "        vertical-align: top;\n",
              "    }\n",
              "\n",
              "    .dataframe thead th {\n",
              "        text-align: right;\n",
              "    }\n",
              "</style>\n",
              "<table border=\"1\" class=\"dataframe\">\n",
              "  <thead>\n",
              "    <tr style=\"text-align: right;\">\n",
              "      <th></th>\n",
              "      <th></th>\n",
              "      <th>Item_Identifier</th>\n",
              "      <th>Item_Weight</th>\n",
              "      <th>Item_Visibility</th>\n",
              "      <th>Item_MRP</th>\n",
              "      <th>Outlet_Identifier</th>\n",
              "      <th>Outlet_Establishment_Year</th>\n",
              "      <th>Outlet_Location_Type</th>\n",
              "      <th>Item_Outlet_Sales</th>\n",
              "      <th>Item_Fat_Content_0</th>\n",
              "      <th>Item_Fat_Content_1</th>\n",
              "      <th>Item_Type_0</th>\n",
              "      <th>Item_Type_1</th>\n",
              "      <th>Item_Type2</th>\n",
              "      <th>Outlet_Identifier_0</th>\n",
              "      <th>Outlet_Identifier_1</th>\n",
              "      <th>Outlet_Identifier_2</th>\n",
              "      <th>Outlet_Identifier_3</th>\n",
              "      <th>Outlet_Identifier_4</th>\n",
              "      <th>Outlet_Identifier_5</th>\n",
              "      <th>Outlet_Identifier_6</th>\n",
              "      <th>Outlet_Identifier_7</th>\n",
              "      <th>Outlet_Identifier_8</th>\n",
              "      <th>Outlet_Identifier_9</th>\n",
              "    </tr>\n",
              "    <tr>\n",
              "      <th>Outlet_Type</th>\n",
              "      <th>Outlet_Size</th>\n",
              "      <th></th>\n",
              "      <th></th>\n",
              "      <th></th>\n",
              "      <th></th>\n",
              "      <th></th>\n",
              "      <th></th>\n",
              "      <th></th>\n",
              "      <th></th>\n",
              "      <th></th>\n",
              "      <th></th>\n",
              "      <th></th>\n",
              "      <th></th>\n",
              "      <th></th>\n",
              "      <th></th>\n",
              "      <th></th>\n",
              "      <th></th>\n",
              "      <th></th>\n",
              "      <th></th>\n",
              "      <th></th>\n",
              "      <th></th>\n",
              "      <th></th>\n",
              "      <th></th>\n",
              "      <th></th>\n",
              "    </tr>\n",
              "  </thead>\n",
              "  <tbody>\n",
              "    <tr>\n",
              "      <th>Grocery Store</th>\n",
              "      <th>Small</th>\n",
              "      <td>880</td>\n",
              "      <td>880</td>\n",
              "      <td>880</td>\n",
              "      <td>880</td>\n",
              "      <td>880</td>\n",
              "      <td>880</td>\n",
              "      <td>880</td>\n",
              "      <td>528</td>\n",
              "      <td>880</td>\n",
              "      <td>880</td>\n",
              "      <td>880</td>\n",
              "      <td>880</td>\n",
              "      <td>880</td>\n",
              "      <td>880</td>\n",
              "      <td>880</td>\n",
              "      <td>880</td>\n",
              "      <td>880</td>\n",
              "      <td>880</td>\n",
              "      <td>880</td>\n",
              "      <td>880</td>\n",
              "      <td>880</td>\n",
              "      <td>880</td>\n",
              "      <td>880</td>\n",
              "    </tr>\n",
              "    <tr>\n",
              "      <th rowspan=\"3\" valign=\"top\">Supermarket Type1</th>\n",
              "      <th>High</th>\n",
              "      <td>1553</td>\n",
              "      <td>1553</td>\n",
              "      <td>1553</td>\n",
              "      <td>1553</td>\n",
              "      <td>1553</td>\n",
              "      <td>1553</td>\n",
              "      <td>1553</td>\n",
              "      <td>932</td>\n",
              "      <td>1553</td>\n",
              "      <td>1553</td>\n",
              "      <td>1553</td>\n",
              "      <td>1553</td>\n",
              "      <td>1553</td>\n",
              "      <td>1553</td>\n",
              "      <td>1553</td>\n",
              "      <td>1553</td>\n",
              "      <td>1553</td>\n",
              "      <td>1553</td>\n",
              "      <td>1553</td>\n",
              "      <td>1553</td>\n",
              "      <td>1553</td>\n",
              "      <td>1553</td>\n",
              "      <td>1553</td>\n",
              "    </tr>\n",
              "    <tr>\n",
              "      <th>Medium</th>\n",
              "      <td>1550</td>\n",
              "      <td>1550</td>\n",
              "      <td>1550</td>\n",
              "      <td>1550</td>\n",
              "      <td>1550</td>\n",
              "      <td>1550</td>\n",
              "      <td>1550</td>\n",
              "      <td>930</td>\n",
              "      <td>1550</td>\n",
              "      <td>1550</td>\n",
              "      <td>1550</td>\n",
              "      <td>1550</td>\n",
              "      <td>1550</td>\n",
              "      <td>1550</td>\n",
              "      <td>1550</td>\n",
              "      <td>1550</td>\n",
              "      <td>1550</td>\n",
              "      <td>1550</td>\n",
              "      <td>1550</td>\n",
              "      <td>1550</td>\n",
              "      <td>1550</td>\n",
              "      <td>1550</td>\n",
              "      <td>1550</td>\n",
              "    </tr>\n",
              "    <tr>\n",
              "      <th>Small</th>\n",
              "      <td>3100</td>\n",
              "      <td>3100</td>\n",
              "      <td>3100</td>\n",
              "      <td>3100</td>\n",
              "      <td>3100</td>\n",
              "      <td>3100</td>\n",
              "      <td>3100</td>\n",
              "      <td>1860</td>\n",
              "      <td>3100</td>\n",
              "      <td>3100</td>\n",
              "      <td>3100</td>\n",
              "      <td>3100</td>\n",
              "      <td>3100</td>\n",
              "      <td>3100</td>\n",
              "      <td>3100</td>\n",
              "      <td>3100</td>\n",
              "      <td>3100</td>\n",
              "      <td>3100</td>\n",
              "      <td>3100</td>\n",
              "      <td>3100</td>\n",
              "      <td>3100</td>\n",
              "      <td>3100</td>\n",
              "      <td>3100</td>\n",
              "    </tr>\n",
              "    <tr>\n",
              "      <th>Supermarket Type2</th>\n",
              "      <th>Medium</th>\n",
              "      <td>1546</td>\n",
              "      <td>1546</td>\n",
              "      <td>1546</td>\n",
              "      <td>1546</td>\n",
              "      <td>1546</td>\n",
              "      <td>1546</td>\n",
              "      <td>1546</td>\n",
              "      <td>928</td>\n",
              "      <td>1546</td>\n",
              "      <td>1546</td>\n",
              "      <td>1546</td>\n",
              "      <td>1546</td>\n",
              "      <td>1546</td>\n",
              "      <td>1546</td>\n",
              "      <td>1546</td>\n",
              "      <td>1546</td>\n",
              "      <td>1546</td>\n",
              "      <td>1546</td>\n",
              "      <td>1546</td>\n",
              "      <td>1546</td>\n",
              "      <td>1546</td>\n",
              "      <td>1546</td>\n",
              "      <td>1546</td>\n",
              "    </tr>\n",
              "    <tr>\n",
              "      <th>Supermarket Type3</th>\n",
              "      <th>Medium</th>\n",
              "      <td>1559</td>\n",
              "      <td>1559</td>\n",
              "      <td>1559</td>\n",
              "      <td>1559</td>\n",
              "      <td>1559</td>\n",
              "      <td>1559</td>\n",
              "      <td>1559</td>\n",
              "      <td>935</td>\n",
              "      <td>1559</td>\n",
              "      <td>1559</td>\n",
              "      <td>1559</td>\n",
              "      <td>1559</td>\n",
              "      <td>1559</td>\n",
              "      <td>1559</td>\n",
              "      <td>1559</td>\n",
              "      <td>1559</td>\n",
              "      <td>1559</td>\n",
              "      <td>1559</td>\n",
              "      <td>1559</td>\n",
              "      <td>1559</td>\n",
              "      <td>1559</td>\n",
              "      <td>1559</td>\n",
              "      <td>1559</td>\n",
              "    </tr>\n",
              "  </tbody>\n",
              "</table>\n",
              "</div>"
            ],
            "text/plain": [
              "                               Item_Identifier  ...  Outlet_Identifier_9\n",
              "Outlet_Type       Outlet_Size                   ...                     \n",
              "Grocery Store     Small                    880  ...                  880\n",
              "Supermarket Type1 High                    1553  ...                 1553\n",
              "                  Medium                  1550  ...                 1550\n",
              "                  Small                   3100  ...                 3100\n",
              "Supermarket Type2 Medium                  1546  ...                 1546\n",
              "Supermarket Type3 Medium                  1559  ...                 1559\n",
              "\n",
              "[6 rows x 23 columns]"
            ]
          },
          "metadata": {
            "tags": []
          },
          "execution_count": 42
        }
      ]
    },
    {
      "cell_type": "markdown",
      "metadata": {
        "id": "_C3yJPqG3Pct",
        "colab_type": "text"
      },
      "source": [
        "According above we replace this like :\n",
        "\n",
        "small : Grocery Store,Supermarket1\n",
        "\n",
        "medium : Supermarket2,Supermarket3\n"
      ]
    },
    {
      "cell_type": "code",
      "metadata": {
        "id": "0f99jxkW3C6Z",
        "colab_type": "code",
        "colab": {}
      },
      "source": [
        "def outlet_size(row):\n",
        "    if row in ['Grocery Store','Supermarket Type1']:\n",
        "        return 'Small'\n",
        "    elif row in ['Supermarket Type2','Supermarket Type3']:\n",
        "        return 'Medium'\n",
        "data['Outlet_Size'] = data['Outlet_Type'].apply(lambda x : outlet_size(x))"
      ],
      "execution_count": 0,
      "outputs": []
    },
    {
      "cell_type": "code",
      "metadata": {
        "id": "iotasYxs4gUO",
        "colab_type": "code",
        "outputId": "f454a353-a6c4-4528-ce93-b3497502c851",
        "colab": {
          "base_uri": "https://localhost:8080/",
          "height": 34
        }
      },
      "source": [
        "print('Check for Null value in Outlet_Size : ',data['Outlet_Size'].isnull().any())"
      ],
      "execution_count": 44,
      "outputs": [
        {
          "output_type": "stream",
          "text": [
            "Check for Null value in Outlet_Size :  False\n"
          ],
          "name": "stdout"
        }
      ]
    },
    {
      "cell_type": "code",
      "metadata": {
        "id": "GyLP3gX44-Ah",
        "colab_type": "code",
        "outputId": "399c8242-3e44-4711-d234-eaeae5ff6225",
        "colab": {
          "base_uri": "https://localhost:8080/",
          "height": 68
        }
      },
      "source": [
        "data['Outlet_Size'].value_counts()"
      ],
      "execution_count": 45,
      "outputs": [
        {
          "output_type": "execute_result",
          "data": {
            "text/plain": [
              "Small     11099\n",
              "Medium     3105\n",
              "Name: Outlet_Size, dtype: int64"
            ]
          },
          "metadata": {
            "tags": []
          },
          "execution_count": 45
        }
      ]
    },
    {
      "cell_type": "code",
      "metadata": {
        "id": "Gz3O9VFO50Di",
        "colab_type": "code",
        "colab": {}
      },
      "source": [
        "ohe = OneHotEncoder()\n",
        "label_fat = ohe.fit_transform(np.array(data['Outlet_Size']).reshape(-1,1))\n",
        "label_fat = label_fat.toarray()\n",
        "label_fat = pd.DataFrame(label_fat,columns=['Outlet_Size_0','Outlet_Size_1'])\n",
        "data[['Outlet_Size_0','Outlet_Size_1']] = label_fat[['Outlet_Size_0','Outlet_Size_1']]"
      ],
      "execution_count": 0,
      "outputs": []
    },
    {
      "cell_type": "code",
      "metadata": {
        "id": "Wltd8iNV-36u",
        "colab_type": "code",
        "colab": {}
      },
      "source": [
        "data.drop(['Outlet_Size'],axis=1,inplace=True)"
      ],
      "execution_count": 0,
      "outputs": []
    },
    {
      "cell_type": "code",
      "metadata": {
        "id": "SJKf6YZC-5ui",
        "colab_type": "code",
        "outputId": "39097fef-3ed1-4b38-d49f-d7adb9c0344a",
        "colab": {
          "base_uri": "https://localhost:8080/",
          "height": 187
        }
      },
      "source": [
        "data.columns"
      ],
      "execution_count": 48,
      "outputs": [
        {
          "output_type": "execute_result",
          "data": {
            "text/plain": [
              "Index(['Item_Identifier', 'Item_Weight', 'Item_Visibility', 'Item_MRP',\n",
              "       'Outlet_Identifier', 'Outlet_Establishment_Year',\n",
              "       'Outlet_Location_Type', 'Outlet_Type', 'Item_Outlet_Sales',\n",
              "       'Item_Fat_Content_0', 'Item_Fat_Content_1', 'Item_Type_0',\n",
              "       'Item_Type_1', 'Item_Type2', 'Outlet_Identifier_0',\n",
              "       'Outlet_Identifier_1', 'Outlet_Identifier_2', 'Outlet_Identifier_3',\n",
              "       'Outlet_Identifier_4', 'Outlet_Identifier_5', 'Outlet_Identifier_6',\n",
              "       'Outlet_Identifier_7', 'Outlet_Identifier_8', 'Outlet_Identifier_9',\n",
              "       'Outlet_Size_0', 'Outlet_Size_1'],\n",
              "      dtype='object')"
            ]
          },
          "metadata": {
            "tags": []
          },
          "execution_count": 48
        }
      ]
    },
    {
      "cell_type": "markdown",
      "metadata": {
        "id": "oP0BxPvaMmh3",
        "colab_type": "text"
      },
      "source": [
        "# <h2><b> 1.9 Outlet_Type---Categorical(Grocery Store,Supermarket Type1,Supermarket Type2,Supermarket Type3)"
      ]
    },
    {
      "cell_type": "code",
      "metadata": {
        "id": "YhCujdHRLEep",
        "colab_type": "code",
        "colab": {}
      },
      "source": [
        "ohe = OneHotEncoder()\n",
        "label_fat = ohe.fit_transform(np.array(data['Outlet_Type']).reshape(-1,1))\n",
        "label_fat = label_fat.toarray()\n",
        "label_fat = pd.DataFrame(label_fat,columns=['Outlet_Type_0','Outlet_Type_1','Outlet_Type_2','Outlet_Type_3'])\n",
        "data[['Outlet_Type_0','Outlet_Type_1','Outlet_Type_2','Outlet_Type_3']] = label_fat[['Outlet_Type_0','Outlet_Type_1','Outlet_Type_2','Outlet_Type_3']]"
      ],
      "execution_count": 0,
      "outputs": []
    },
    {
      "cell_type": "code",
      "metadata": {
        "id": "ViOsq6EUNDgv",
        "colab_type": "code",
        "outputId": "21ccf20d-9434-4da0-eb95-6cc183d6f7da",
        "colab": {
          "base_uri": "https://localhost:8080/",
          "height": 204
        }
      },
      "source": [
        "data.columns"
      ],
      "execution_count": 50,
      "outputs": [
        {
          "output_type": "execute_result",
          "data": {
            "text/plain": [
              "Index(['Item_Identifier', 'Item_Weight', 'Item_Visibility', 'Item_MRP',\n",
              "       'Outlet_Identifier', 'Outlet_Establishment_Year',\n",
              "       'Outlet_Location_Type', 'Outlet_Type', 'Item_Outlet_Sales',\n",
              "       'Item_Fat_Content_0', 'Item_Fat_Content_1', 'Item_Type_0',\n",
              "       'Item_Type_1', 'Item_Type2', 'Outlet_Identifier_0',\n",
              "       'Outlet_Identifier_1', 'Outlet_Identifier_2', 'Outlet_Identifier_3',\n",
              "       'Outlet_Identifier_4', 'Outlet_Identifier_5', 'Outlet_Identifier_6',\n",
              "       'Outlet_Identifier_7', 'Outlet_Identifier_8', 'Outlet_Identifier_9',\n",
              "       'Outlet_Size_0', 'Outlet_Size_1', 'Outlet_Type_0', 'Outlet_Type_1',\n",
              "       'Outlet_Type_2', 'Outlet_Type_3'],\n",
              "      dtype='object')"
            ]
          },
          "metadata": {
            "tags": []
          },
          "execution_count": 50
        }
      ]
    },
    {
      "cell_type": "markdown",
      "metadata": {
        "id": "Ba1MEWBuXLZR",
        "colab_type": "text"
      },
      "source": [
        "# Data Preparation"
      ]
    },
    {
      "cell_type": "code",
      "metadata": {
        "id": "h82OaxTLNFSF",
        "colab_type": "code",
        "colab": {}
      },
      "source": [
        "data_f = data[[ 'Item_Weight', 'Item_Visibility', 'Item_MRP','Item_Outlet_Sales','Outlet_Establishment_Year',\n",
        "       'Item_Fat_Content_0', 'Item_Fat_Content_1', 'Item_Type_0',\n",
        "       'Item_Type_1', 'Item_Type2', 'Outlet_Identifier_0',\n",
        "       'Outlet_Identifier_1', 'Outlet_Identifier_2', 'Outlet_Identifier_3',\n",
        "       'Outlet_Identifier_4', 'Outlet_Identifier_5', 'Outlet_Identifier_6',\n",
        "       'Outlet_Identifier_7', 'Outlet_Identifier_8', 'Outlet_Identifier_9',\n",
        "       'Outlet_Size_0', 'Outlet_Size_1', 'Outlet_Type_0', 'Outlet_Type_1',\n",
        "       'Outlet_Type_2', 'Outlet_Type_3']].copy()"
      ],
      "execution_count": 0,
      "outputs": []
    },
    {
      "cell_type": "code",
      "metadata": {
        "id": "vnwS0sWG3ram",
        "colab_type": "code",
        "colab": {}
      },
      "source": [
        "from sklearn.preprocessing import StandardScaler\n",
        "data_f.iloc[:,0:5] = StandardScaler().fit_transform(data_f.iloc[:,0:5])\n"
      ],
      "execution_count": 0,
      "outputs": []
    },
    {
      "cell_type": "code",
      "metadata": {
        "id": "56EHm1JfXfyg",
        "colab_type": "code",
        "colab": {}
      },
      "source": [
        "test_data = data_f.iloc[8523:].copy()\n",
        "train_data = data_f.iloc[:8522].copy()\n",
        "test_data.drop(['Item_Outlet_Sales'],axis=1,inplace=True)\n",
        "\n",
        "train_y = train_data['Item_Outlet_Sales']\n",
        "train_x = train_data[[ 'Item_Weight', 'Item_Visibility', 'Item_MRP','Outlet_Establishment_Year',\n",
        "       'Item_Fat_Content_0', 'Item_Fat_Content_1', 'Item_Type_0',\n",
        "       'Item_Type_1', 'Item_Type2', 'Outlet_Identifier_0',\n",
        "       'Outlet_Identifier_1', 'Outlet_Identifier_2', 'Outlet_Identifier_3',\n",
        "       'Outlet_Identifier_4', 'Outlet_Identifier_5', 'Outlet_Identifier_6',\n",
        "       'Outlet_Identifier_7', 'Outlet_Identifier_8', 'Outlet_Identifier_9',\n",
        "       'Outlet_Size_0', 'Outlet_Size_1', 'Outlet_Type_0', 'Outlet_Type_1',\n",
        "       'Outlet_Type_2', 'Outlet_Type_3']]\n",
        "\n",
        "test_x = test_data\n"
      ],
      "execution_count": 0,
      "outputs": []
    },
    {
      "cell_type": "code",
      "metadata": {
        "id": "BuiJaXUa5z2I",
        "colab_type": "code",
        "colab": {
          "base_uri": "https://localhost:8080/",
          "height": 221
        },
        "outputId": "3b55edc0-5516-492a-965f-45773581400c"
      },
      "source": [
        "train_y"
      ],
      "execution_count": 95,
      "outputs": [
        {
          "output_type": "execute_result",
          "data": {
            "text/plain": [
              "0       0.910601\n",
              "1      -1.018440\n",
              "2      -0.049238\n",
              "3      -0.849103\n",
              "4      -0.695373\n",
              "          ...   \n",
              "8517    0.836467\n",
              "8518    0.349915\n",
              "8519   -0.956402\n",
              "8520   -0.579100\n",
              "8521   -0.196725\n",
              "Name: Item_Outlet_Sales, Length: 8522, dtype: float64"
            ]
          },
          "metadata": {
            "tags": []
          },
          "execution_count": 95
        }
      ]
    },
    {
      "cell_type": "code",
      "metadata": {
        "id": "YQ9Nt_TfWpHk",
        "colab_type": "code",
        "colab": {}
      },
      "source": [
        "from sklearn.model_selection import train_test_split\n",
        "\n",
        "x_train,x_cv,y_train,y_cv = train_test_split(train_x,train_y,test_size=0.2)\n",
        "\n"
      ],
      "execution_count": 0,
      "outputs": []
    },
    {
      "cell_type": "markdown",
      "metadata": {
        "id": "lobOhZVOauNo",
        "colab_type": "text"
      },
      "source": [
        "# <h1> <b> Model"
      ]
    },
    {
      "cell_type": "code",
      "metadata": {
        "id": "dtxlo2I5EbS9",
        "colab_type": "code",
        "colab": {}
      },
      "source": [
        "from math import sqrt\n"
      ],
      "execution_count": 0,
      "outputs": []
    },
    {
      "cell_type": "markdown",
      "metadata": {
        "id": "7Z_3Hk7OdFTQ",
        "colab_type": "text"
      },
      "source": [
        "# <b>1: LinearRegression"
      ]
    },
    {
      "cell_type": "code",
      "metadata": {
        "id": "HE9h3g_mYPBN",
        "colab_type": "code",
        "outputId": "568cb638-9fe3-4bd6-9828-b5f7934fde7c",
        "colab": {
          "base_uri": "https://localhost:8080/",
          "height": 441
        }
      },
      "source": [
        "from sklearn.linear_model import LinearRegression\n",
        "from sklearn.metrics import mean_squared_error\n",
        "\n",
        "model = LinearRegression(normalize=True)\n",
        "model.fit(x_train,y_train)\n",
        "pred_cv = model.predict(x_cv)\n",
        "print('MSE : ',mean_squared_error(y_cv,pred_cv))\n",
        "print('RMSE : ',sqrt(mean_squared_error(y_cv,pred_cv)))\n",
        "\n",
        "coef = pd.Series(model.coef_,x_cv.columns).sort_values()\n",
        "coef.plot(kind='bar')"
      ],
      "execution_count": 98,
      "outputs": [
        {
          "output_type": "stream",
          "text": [
            "MSE :  0.42084754880941616\n",
            "RMSE :  0.6487276383887279\n"
          ],
          "name": "stdout"
        },
        {
          "output_type": "execute_result",
          "data": {
            "text/plain": [
              "<matplotlib.axes._subplots.AxesSubplot at 0x7fd8e71fa828>"
            ]
          },
          "metadata": {
            "tags": []
          },
          "execution_count": 98
        },
        {
          "output_type": "display_data",
          "data": {
            "image/png": "[encoded data removed]",
            "text/plain": [
              "<Figure size 432x288 with 1 Axes>"
            ]
          },
          "metadata": {
            "tags": []
          }
        }
      ]
    },
    {
      "cell_type": "markdown",
      "metadata": {
        "id": "7ATMe833fDwL",
        "colab_type": "text"
      },
      "source": [
        "# <b>2: SGDRegressor "
      ]
    },
    {
      "cell_type": "code",
      "metadata": {
        "id": "pkjOU9lkfGKV",
        "colab_type": "code",
        "outputId": "8d00afc6-8d98-4d00-9abb-91b6068f313d",
        "colab": {
          "base_uri": "https://localhost:8080/",
          "height": 424
        }
      },
      "source": [
        "from sklearn.linear_model import SGDRegressor\n",
        "\n",
        "model = SGDRegressor()\n",
        "h = model.fit(x_train,y_train)\n",
        "pred_cv=model.predict(x_cv)\n",
        "print(mean_squared_error(y_cv,pred_cv))\n",
        "coef = pd.Series(model.coef_,x_cv.columns).sort_values()\n",
        "coef.plot(kind='bar')"
      ],
      "execution_count": 99,
      "outputs": [
        {
          "output_type": "stream",
          "text": [
            "0.4212724339519844\n"
          ],
          "name": "stdout"
        },
        {
          "output_type": "execute_result",
          "data": {
            "text/plain": [
              "<matplotlib.axes._subplots.AxesSubplot at 0x7fd8e836b2e8>"
            ]
          },
          "metadata": {
            "tags": []
          },
          "execution_count": 99
        },
        {
          "output_type": "display_data",
          "data": {
            "image/png": "[encoded data removed]",
            "text/plain": [
              "<Figure size 432x288 with 1 Axes>"
            ]
          },
          "metadata": {
            "tags": []
          }
        }
      ]
    },
    {
      "cell_type": "markdown",
      "metadata": {
        "colab_type": "text",
        "id": "m7jNrovugtWI"
      },
      "source": [
        "# <b>3: SVR "
      ]
    },
    {
      "cell_type": "code",
      "metadata": {
        "colab_type": "code",
        "id": "IVnNgqpCgtWO",
        "outputId": "82abe5b1-0e43-4291-8ced-53a78405f524",
        "colab": {
          "base_uri": "https://localhost:8080/",
          "height": 34
        }
      },
      "source": [
        "from sklearn.svm import SVR\n",
        "model = SVR(kernel='linear',C=1)\n",
        "h = model.fit(x_train,y_train)\n",
        "pred_cv=model.predict(x_cv)\n",
        "print(mean_squared_error(y_cv,pred_cv))"
      ],
      "execution_count": 100,
      "outputs": [
        {
          "output_type": "stream",
          "text": [
            "0.42813242389554507\n"
          ],
          "name": "stdout"
        }
      ]
    },
    {
      "cell_type": "markdown",
      "metadata": {
        "colab_type": "text",
        "id": "EtAwX0w9iG5a"
      },
      "source": [
        "# <b>3: RandomForest"
      ]
    },
    {
      "cell_type": "code",
      "metadata": {
        "colab_type": "code",
        "outputId": "cbaef308-b00d-4792-e547-1261a6d8cc10",
        "id": "aytMste5iG5j",
        "colab": {
          "base_uri": "https://localhost:8080/",
          "height": 68
        }
      },
      "source": [
        "from sklearn.ensemble import RandomForestRegressor\n",
        "model = RandomForestRegressor(n_estimators=200,max_depth=5,min_samples_leaf=100,n_jobs=4)\n",
        "h = model.fit(x_train,y_train)\n",
        "pred_cv=model.predict(x_cv)\n",
        "print('MSE : ',mean_squared_error(y_cv,pred_cv))\n",
        "print('RMSE : ',sqrt(mean_squared_error(y_cv,pred_cv)))\n",
        "print()"
      ],
      "execution_count": 101,
      "outputs": [
        {
          "output_type": "stream",
          "text": [
            "MSE :  0.381233526692771\n",
            "RMSE :  0.6174411119230488\n",
            "\n"
          ],
          "name": "stdout"
        }
      ]
    }
  ]
}
